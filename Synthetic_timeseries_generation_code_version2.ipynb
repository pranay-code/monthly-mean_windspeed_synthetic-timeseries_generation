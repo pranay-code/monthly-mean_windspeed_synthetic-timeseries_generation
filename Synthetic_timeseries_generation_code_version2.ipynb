{
 "cells": [
  {
   "cell_type": "markdown",
   "id": "4d470fd4",
   "metadata": {
    "id": "4d470fd4"
   },
   "source": [
    "# 1. Importing required libraries"
   ]
  },
  {
   "cell_type": "code",
   "execution_count": 21,
   "id": "c7e6e798",
   "metadata": {
    "id": "c7e6e798"
   },
   "outputs": [],
   "source": [
    "import pandas as pd\n",
    "\n",
    "import numpy as np\n",
    "\n",
    "import matplotlib.pyplot as plt\n",
    "\n",
    "from warnings import filterwarnings\n",
    "\n",
    "filterwarnings(action='ignore')\n",
    "\n",
    "import os\n",
    "\n",
    "from sklearn.ensemble import RandomForestRegressor\n",
    "\n",
    "from xgboost import XGBRegressor\n",
    "\n",
    "from lightgbm import LGBMRegressor\n",
    "\n",
    "from sklearn.model_selection import RandomizedSearchCV\n",
    "\n",
    "from sklearn.metrics import mean_squared_error"
   ]
  },
  {
   "cell_type": "code",
   "execution_count": null,
   "id": "c62bdb61",
   "metadata": {},
   "outputs": [],
   "source": []
  },
  {
   "cell_type": "markdown",
   "id": "543dbc10",
   "metadata": {
    "id": "543dbc10"
   },
   "source": [
    "<!--  -->"
   ]
  },
  {
   "cell_type": "markdown",
   "id": "cd0c7db9",
   "metadata": {
    "id": "cd0c7db9"
   },
   "source": [
    "# 2. Importing observation, reanalysis data and verifying required specifications"
   ]
  },
  {
   "cell_type": "markdown",
   "id": "6fa4e922",
   "metadata": {
    "id": "6fa4e922"
   },
   "source": [
    "<!--  -->"
   ]
  },
  {
   "cell_type": "markdown",
   "id": "8c259cc1",
   "metadata": {
    "id": "8c259cc1"
   },
   "source": [
    "## 2.1 Import"
   ]
  },
  {
   "cell_type": "code",
   "execution_count": 22,
   "id": "1529e8fd",
   "metadata": {
    "id": "1529e8fd"
   },
   "outputs": [],
   "source": [
    "def import_obs_windspeed_reanalysis():\n",
    "    \n",
    "    \"\"\"\n",
    "    \n",
    "    Function imports observation and reanalysis data placed in the directory/ folder\n",
    "    \n",
    "    Output:\n",
    "    \n",
    "    1. obs_data: (pandas DataFrame object)\n",
    "    \n",
    "    2. reanalysis_data: (pandas DataFrame object)\n",
    "    \n",
    "    \"\"\"\n",
    "    # Observation data\n",
    "    \n",
    "    try:\n",
    "\n",
    "        obs_data = pd.read_csv('obs_data.csv',index_col=0, parse_dates=True).iloc[:-15:]\n",
    "\n",
    "        # Sorting based on datetime index\n",
    "\n",
    "        obs_data = obs_data.sort_index()\n",
    "\n",
    "        obs_data.columns = ['windspeed',]\n",
    "\n",
    "        obs_data.index.name = 'DATE'\n",
    "    \n",
    "    except:\n",
    "        \n",
    "        obs_data = None\n",
    "        \n",
    "    # Reanalysis data\n",
    "    \n",
    "    try:\n",
    "\n",
    "        reanalysis_data = pd.read_csv('reanalysis_data.csv',index_col=0, parse_dates=True)\n",
    "\n",
    "        # Sorting based on datetime index\n",
    "\n",
    "        reanalysis_data = reanalysis_data.sort_index()\n",
    "\n",
    "        reanalysis_data.index.name = 'DATE'\n",
    "\n",
    "        reanalysis_data.columns = [col.lower() for col in reanalysis_data.columns]\n",
    "    \n",
    "    except:\n",
    "        \n",
    "        reanalysis_data = None\n",
    "        \n",
    "    return obs_data, reanalysis_data"
   ]
  },
  {
   "cell_type": "markdown",
   "id": "8cd56b46",
   "metadata": {
    "id": "8cd56b46"
   },
   "source": [
    "## 2.2 Verifying required specifications"
   ]
  },
  {
   "cell_type": "code",
   "execution_count": 23,
   "id": "5f62ae89",
   "metadata": {
    "id": "5f62ae89"
   },
   "outputs": [],
   "source": [
    "def verify_required_specifications_obs_data(df):\n",
    "            \n",
    "    \"\"\"\n",
    "    \n",
    "    Function, verifies whether the observation wind speed data meets the required criteria.\n",
    "    \n",
    "    Input:\n",
    "    \n",
    "    df (pandas DataFrame object)\n",
    "    \n",
    "    Output:\n",
    "    \n",
    "    df (pandas DataFrame object)\n",
    "    \n",
    "    \"\"\"\n",
    "    \n",
    "    df = df.resample('D').mean().dropna()\n",
    "    \n",
    "    # Only considering data after 1958-01-01\n",
    "    \n",
    "    df = df[df.index >= '1958-01-01']    \n",
    "    \n",
    "    if len(df) < 600:\n",
    "        \n",
    "        return None        \n",
    "    \n",
    "    else:\n",
    "        \n",
    "        return df        \n",
    "        \n",
    "    \n",
    "def filter_windspeed_from_outliers(df):\n",
    "    \n",
    "    \"\"\"\n",
    "    Filters nan values and outliers (above or below 1.5 times IQR (Inter quartile range)).\n",
    "    \n",
    "    Input:\n",
    "    \n",
    "    df (pandas DataFrame object)\n",
    "    \n",
    "    Output:\n",
    "    \n",
    "    df (pandas DataFrame object)\n",
    "\n",
    "    \"\"\"\n",
    "        \n",
    "    _, bp_data = df.loc[:,['windspeed',]].boxplot(return_type='both')\n",
    "\n",
    "    whiskers = [whiskers.get_ydata()[1] for whiskers in bp_data[\"whiskers\"]]\n",
    "\n",
    "    ulimit = whiskers[1]\n",
    "\n",
    "    llimit = whiskers[0]\n",
    "    \n",
    "    plt.close()\n",
    "    \n",
    "    return df.loc[(df['windspeed'] <= ulimit) &  (df['windspeed'] >= llimit),:]\n",
    "\n"
   ]
  },
  {
   "cell_type": "code",
   "execution_count": 24,
   "id": "efc615ab",
   "metadata": {
    "id": "efc615ab"
   },
   "outputs": [],
   "source": [
    "# Processing\n",
    "\n",
    "def verify_required_specifications_reanalysis_data(df,last_date_index):\n",
    "    \n",
    "    \"\"\"\n",
    "    Function checks if the reanalysis data provided meets the required criteria\n",
    "    \n",
    "    Input:\n",
    "    \n",
    "    df: reanalysis data (pandas DataFrame object)\n",
    "    \n",
    "    last_date_index: last timestamp of observation data (pandas Timestamp object or str ('YYYY-MM-DD'))\n",
    "    \n",
    "    Output:\n",
    "    \n",
    "    df: Processed reanalysis data (daily average + nan features dropped + column names changed to lower case) (pandas DataFrame object)\n",
    "        (pandas DataFrame object)\n",
    "    \n",
    "    error_msg: (str)\n",
    "    \n",
    "    \"\"\"\n",
    "    \n",
    "    # Cropping data\n",
    "    \n",
    "    error_msg = ''\n",
    "    \n",
    "    bool_lst = []\n",
    "\n",
    "    df = df.resample('D').mean()\n",
    "    \n",
    "    df = df[~df.isna().all(axis=1)]\n",
    "    \n",
    "    df = df.loc[((df.index >= '1958-01-01') & (df.index <= last_date_index)),:]\n",
    "    \n",
    "    # Condition 1: Reanalysis data should not have missing data-points (rows)\n",
    "    \n",
    "    req_length = len(pd.date_range('1958-01-01',last_date_index,freq='D'))\n",
    "    \n",
    "    if len(df) < req_length:\n",
    "\n",
    "        error_msg = error_msg + \"Condition 1: Reanalysis data should not have missing data-points (failed)\\n\"\n",
    "        \n",
    "        bool_lst.append(False)\n",
    "    \n",
    "    else:\n",
    "        \n",
    "        bool_lst.append(True)\n",
    "        \n",
    "    # Condition 2: Checking number of features\n",
    "    \n",
    "    df = df.loc[:,df.columns[~df.isna().all(axis=0)]]\n",
    "    \n",
    "    req_nfeatures = 10\n",
    "    \n",
    "    if len(df.columns) < 10:\n",
    "\n",
    "        error_msg = error_msg + f\"Condition 2: Number of features should be at least {req_nfeatures} (failed)\\n\"\n",
    "        \n",
    "        bool_lst.append(False)\n",
    "    \n",
    "    else:\n",
    "        \n",
    "        bool_lst.append(True)\n",
    "        \n",
    "    # Condition 3: Compulsory features wind_era5, wind_jra55, wind_ncep1\n",
    "    \n",
    "    # Changing columns to lower case\n",
    "    \n",
    "    df.columns = [col.lower() for col in df.columns]\n",
    "    \n",
    "    compulsory_features = ['wind_era5','wind_jra55','wind_ncep1']\n",
    "\n",
    "    found = True\n",
    "\n",
    "    for cfeature in compulsory_features:\n",
    "\n",
    "        if not (cfeature in df.columns):\n",
    "\n",
    "            found = False\n",
    "\n",
    "            break\n",
    "\n",
    "    if not found:\n",
    "\n",
    "        error_msg = error_msg + f\"Condition 3: Necessary features available in reanalysis data provided (failed)\\n\"\n",
    "\n",
    "        bool_lst.append(False)\n",
    "\n",
    "    else:\n",
    "\n",
    "        bool_lst.append(True)\n",
    "        \n",
    "    if all(bool_lst):\n",
    "        \n",
    "        return df, error_msg\n",
    "    \n",
    "    else:\n",
    "        \n",
    "        return None, error_msg\n",
    "        \n",
    "    "
   ]
  },
  {
   "cell_type": "markdown",
   "id": "c0952218",
   "metadata": {
    "id": "c0952218"
   },
   "source": [
    "## 2.3 Main function"
   ]
  },
  {
   "cell_type": "code",
   "execution_count": 25,
   "id": "4a5a231f",
   "metadata": {
    "id": "4a5a231f"
   },
   "outputs": [],
   "source": [
    "def main_function_1_import_verify():\n",
    "    \n",
    "    \"\"\"\n",
    "    Function perfroms two tasks: \n",
    "    \n",
    "    1.imports observation and reanalysis data placed in the directory/ folder. \n",
    "    \n",
    "    2.Verifies if the required criteria and satisfied. \n",
    "    \n",
    "    Output:\n",
    "    \n",
    "    obs_data: (pandas DataFrame object)\n",
    "    \n",
    "    reanalysis_data: (pandas DataFrame object)\n",
    "    \n",
    "    \"\"\"    \n",
    "    \n",
    "    \n",
    "    obs_data, reanalysis_data = import_obs_windspeed_reanalysis()    \n",
    "        \n",
    "    if obs_data is None:\n",
    "                \n",
    "        print(\"Error in importing observation data\\n\")\n",
    "    \n",
    "    else:\n",
    "        \n",
    "        obs_data = verify_required_specifications_obs_data(obs_data)\n",
    "        \n",
    "        if obs_data is None:\n",
    "            \n",
    "            print(\"Observation data fails to meet the required criteria of at least 600 data-points\\n\")\n",
    "            \n",
    "        else:\n",
    "            \n",
    "            obs_data = filter_windspeed_from_outliers(obs_data)\n",
    "            \n",
    "            last_date_index = obs_data.index[-1]\n",
    "    \n",
    "            if reanalysis_data is None:\n",
    "\n",
    "                print(\"Error in importing reanalysis data\\n\")\n",
    "\n",
    "            else:\n",
    "\n",
    "                reanalysis_data, error_msg = verify_required_specifications_reanalysis_data(reanalysis_data,last_date_index)\n",
    "\n",
    "                if reanalysis_data is None:\n",
    "\n",
    "                    print(\"Reanalyis data fails to meet the following required criteria\\n\")\n",
    "\n",
    "                    print(error_msg)\n",
    "        \n",
    "    if obs_data is not None and reanalysis_data is not None:\n",
    "        \n",
    "        return obs_data, reanalysis_data\n",
    "    \n",
    "    else:\n",
    "        \n",
    "        return None\n",
    "        "
   ]
  },
  {
   "cell_type": "markdown",
   "id": "29bf151b",
   "metadata": {
    "id": "29bf151b"
   },
   "source": [
    "<!--  -->"
   ]
  },
  {
   "cell_type": "markdown",
   "id": "b694b1b3",
   "metadata": {
    "id": "b694b1b3"
   },
   "source": [
    "# 3. Preparing dataset"
   ]
  },
  {
   "cell_type": "markdown",
   "id": "b2983fa7",
   "metadata": {
    "id": "b2983fa7"
   },
   "source": [
    "<!--  -->"
   ]
  },
  {
   "cell_type": "markdown",
   "id": "a871884d",
   "metadata": {
    "id": "a871884d"
   },
   "source": [
    "## 3.1 Main function"
   ]
  },
  {
   "cell_type": "code",
   "execution_count": 26,
   "id": "eea2191c",
   "metadata": {
    "id": "eea2191c"
   },
   "outputs": [],
   "source": [
    "def main_function_2_process_datasets(obs_data, reanalysis_data):\n",
    "    \n",
    "    \"\"\"\n",
    "    Function processes the datasets required for the training, testing and building synthetic time series.\n",
    "    \n",
    "    Input:\n",
    "    \n",
    "    obs_data: (pandas DataFrame object)\n",
    "    \n",
    "    reanalysis_data: (pandas DataFrame object)\n",
    "    \n",
    "    Output: tuple object\n",
    "    \n",
    "    (\n",
    "    \n",
    "    X_train: (pandas DataFrame object)\n",
    "    \n",
    "    y_train: (pandas DataFrame object)\n",
    "    \n",
    "    X_test: (pandas DataFrame object)\n",
    "    \n",
    "    y_test: (pandas DataFrame object)\n",
    "    \n",
    "    input_dataset: (pandas DataFrame object)\n",
    "    \n",
    "    )\n",
    "    \"\"\"\n",
    "    \n",
    "    # 1. Adding DOY, month and year as features in reanalysis data\n",
    "    \n",
    "    reanalysis_data['DOY'] = reanalysis_data.index.dayofyear\n",
    "    \n",
    "    reanalysis_data['month'] = reanalysis_data.index.month\n",
    "    \n",
    "    reanalysis_data['year'] = reanalysis_data.index.year\n",
    "    \n",
    "    # 2. Merging observation with reanalysis\n",
    "    \n",
    "    dataset = pd.merge(obs_data,reanalysis_data,on='DATE').astype('float32')\n",
    "\n",
    "    # 3. Dividing data into train and test\n",
    "\n",
    "    # Taking first 10 % of dataset as test and remaining as train data\n",
    "\n",
    "    test_end_index = int(0.1 * len(dataset))\n",
    "\n",
    "    test = dataset.iloc[0:test_end_index,:]\n",
    "\n",
    "    train = dataset.iloc[test_end_index::,:]\n",
    "    \n",
    "    # Dividing into X, y\n",
    "\n",
    "    train_shuffled = train.sample(frac=1)\n",
    "\n",
    "    X_train, y_train = train_shuffled.drop(columns='windspeed'), train_shuffled['windspeed']\n",
    "\n",
    "    X_test, y_test = test.drop(columns='windspeed'), test['windspeed']\n",
    "    \n",
    "    # 4. Input dataset preparation\n",
    "    \n",
    "    input_data = reanalysis_data.loc[:,X_train.columns].astype('float32')\n",
    "    \n",
    "    return X_train, y_train, X_test, y_test, input_data"
   ]
  },
  {
   "cell_type": "markdown",
   "id": "64e1aed8",
   "metadata": {
    "id": "64e1aed8"
   },
   "source": [
    "<!--  -->"
   ]
  },
  {
   "cell_type": "markdown",
   "id": "c844f4d6",
   "metadata": {
    "id": "c844f4d6"
   },
   "source": [
    "# 4. Fitting models with hyper-parameter tuning, building synthetic time series"
   ]
  },
  {
   "cell_type": "markdown",
   "id": "97e30467",
   "metadata": {
    "id": "97e30467"
   },
   "source": [
    "<!--  -->"
   ]
  },
  {
   "cell_type": "markdown",
   "id": "c3ed2b2c",
   "metadata": {
    "id": "c3ed2b2c"
   },
   "source": [
    "## 4.1 Defining hyper-parameter tuning functions"
   ]
  },
  {
   "cell_type": "code",
   "execution_count": 27,
   "id": "c6cfb6c2",
   "metadata": {
    "id": "c6cfb6c2"
   },
   "outputs": [],
   "source": [
    "def hyp_tune_RF(X,y,n_iter,n_jobs):\n",
    "    \n",
    "    \"\"\"\n",
    "    \n",
    "    Function tunes RandomForest model for the provided X, y\n",
    "    \n",
    "    Input:  \n",
    "    \n",
    "    X: (pandas DataFrame object)\n",
    "    \n",
    "    y:(pandas Series object)\n",
    "    \n",
    "    n_iter: Number of hyper-parameter sets to experiment\n",
    "    \n",
    "    n_jobs: Number of cores to use(int)\n",
    "    \n",
    "    Output:\n",
    "    \n",
    "    best_model (sklearn RandomForestRegressor object)\n",
    "    \n",
    "    \"\"\"\n",
    "    base_params = dict(criterion=\"squared_error\",random_state=0,bootstrap=True,max_features='sqrt',n_jobs=1)\n",
    "\n",
    "    model = RandomForestRegressor(**base_params)\n",
    "\n",
    "    # Defining hyper-parameters\n",
    "\n",
    "    hyp_params = dict(n_estimators=np.arange(100,601,10), max_samples=np.round(np.arange(0.1,1.01,0.05),2))\n",
    "\n",
    "    # Defining Randomized search instance\n",
    "\n",
    "    rsearch = RandomizedSearchCV(model, hyp_params, n_iter = n_iter, scoring = 'neg_mean_squared_error',\\\n",
    "                                cv = 5, random_state = 0, verbose = 0, n_jobs=n_jobs)\n",
    "\n",
    "    # Starting hyper-parameter tuning\n",
    "\n",
    "    rsearch.fit(X, y)\n",
    "\n",
    "    best_params = rsearch.best_params_\n",
    "\n",
    "    # Defining model with best parameters\n",
    "\n",
    "    ## updating best param with base_params\n",
    "\n",
    "    best_params.update(base_params)\n",
    "\n",
    "    best_model = RandomForestRegressor(**best_params)    \n",
    "\n",
    "    best_model.fit(X,y)\n",
    "\n",
    "    return best_model"
   ]
  },
  {
   "cell_type": "code",
   "execution_count": 28,
   "id": "834f6055",
   "metadata": {
    "id": "834f6055"
   },
   "outputs": [],
   "source": [
    "def hyp_tune_GBDT(X,y,n_iter,n_jobs):\n",
    "    \n",
    "    \"\"\"\n",
    "    \n",
    "    Function tunes XGBRegressor model for the provided X, y\n",
    "    \n",
    "    Input: \n",
    "    \n",
    "    X: (pandas DataFrame object)\n",
    "    \n",
    "    y:(pandas Series object)\n",
    "    \n",
    "    n_iter: Number of hyper-parameter sets to experiment\n",
    "    \n",
    "    n_jobs: Number of cores to use(int)\n",
    "    \n",
    "    Output:\n",
    "    \n",
    "    best_model (sklearn RandomForestRegressor object)\n",
    "    \n",
    "    \"\"\"\n",
    "\n",
    "    base_params = dict(objective=\"reg:squarederror\",random_state=0,booster='gbtree',n_jobs=1)\n",
    "\n",
    "    model = XGBRegressor(**base_params)\n",
    "\n",
    "    # Defining hyper-parameters\n",
    "\n",
    "    hyp_params = {'learning_rate':[0.01,0.04,0.08,0.2,0.5,0.7],\n",
    "                'max_depth':[1,2,3],\n",
    "                'n_estimators':np.arange(100,450,10),\n",
    "                'subsample':[np.round(x,2) for x in np.arange(0.2,0.91,0.1)],\n",
    "                'colsample_bytree':[np.round(x,2) for x in np.arange(0.2,0.91,0.1)],\n",
    "                'reg_lambda':[0.3,0.5,0.8,1]}    \n",
    "\n",
    "    # Defining Randomized search instance\n",
    "\n",
    "    rsearch = RandomizedSearchCV(model, hyp_params, n_iter = n_iter, scoring = 'neg_mean_squared_error',\\\n",
    "                                cv = 5, random_state = 0, verbose = 0, n_jobs=n_jobs)\n",
    "\n",
    "    # Starting hyper-parameter tuning\n",
    "\n",
    "    rsearch.fit(X, y)\n",
    "\n",
    "    best_params = rsearch.best_params_\n",
    "\n",
    "    # Defining model with best parameters\n",
    "\n",
    "    ## updating best param with base_params\n",
    "\n",
    "    best_params.update(base_params)\n",
    "\n",
    "    best_model = XGBRegressor(**best_params)    \n",
    "\n",
    "    best_model.fit(X,y)\n",
    "\n",
    "    return best_model"
   ]
  },
  {
   "cell_type": "code",
   "execution_count": 29,
   "id": "727be33c",
   "metadata": {
    "id": "727be33c"
   },
   "outputs": [],
   "source": [
    "def hyp_tune_LGBDT(X,y,n_iter,n_jobs):\n",
    "    \n",
    "    \"\"\"\n",
    "    \n",
    "    Function tunes LGBMRegressor model for the provided X, y\n",
    "    \n",
    "    Input: \n",
    "    \n",
    "    X: (pandas DataFrame object)\n",
    "    \n",
    "    y:(pandas Series object)\n",
    "    \n",
    "    n_iter: Number of hyper-parameter sets to experiment\n",
    "    \n",
    "    n_jobs: Number of cores to use(int)\n",
    "    \n",
    "    Output:\n",
    "    \n",
    "    best_model (sklearn RandomForestRegressor object)\n",
    "    \n",
    "    \"\"\"\n",
    "\n",
    "    base_params = dict(random_state=0,objective='regression',n_jobs=1,num_leaves=35)\n",
    "\n",
    "    model = LGBMRegressor(**base_params)\n",
    "\n",
    "    # Defining hyper-parameters\n",
    "\n",
    "    hyp_params = {'learning_rate':[0.01,0.04,0.08,0.2,0.5,0.7],\n",
    "            'max_depth':[int(x) for x in np.arange(2,9,1)],\n",
    "            'n_estimators':np.arange(100,450,10),\n",
    "            'subsample':[np.round(x,2) for x in np.arange(0.2,0.91,0.1)],\n",
    "            'colsample_bytree':[np.round(x,2) for x in np.arange(0.2,0.91,0.1)],\n",
    "            'reg_lambda':[0.3,0.5,0.8,1]}    \n",
    "\n",
    "    # Defining Randomized search instance\n",
    "\n",
    "    rsearch = RandomizedSearchCV(model, hyp_params, n_iter = n_iter, scoring = 'neg_mean_squared_error',\\\n",
    "                                cv = 5, random_state = 0, verbose = 0, n_jobs=n_jobs)\n",
    "\n",
    "    # Starting hyper-parameter tuning\n",
    "\n",
    "    rsearch.fit(X, y)\n",
    "\n",
    "    best_params = rsearch.best_params_\n",
    "\n",
    "    # Defining model with best parameters\n",
    "\n",
    "    ## updating best param with base_params\n",
    "\n",
    "    best_params.update(base_params)\n",
    "\n",
    "    best_model = LGBMRegressor(**best_params)    \n",
    "\n",
    "    best_model.fit(X,y)\n",
    "\n",
    "    return best_model"
   ]
  },
  {
   "cell_type": "markdown",
   "id": "46469b49",
   "metadata": {
    "id": "46469b49"
   },
   "source": [
    "<!--  -->"
   ]
  },
  {
   "cell_type": "markdown",
   "id": "566f90c5",
   "metadata": {
    "id": "566f90c5"
   },
   "source": [
    "## 4.2 Plotting error bar plot function"
   ]
  },
  {
   "cell_type": "code",
   "execution_count": 30,
   "id": "485c908b",
   "metadata": {
    "id": "485c908b"
   },
   "outputs": [],
   "source": [
    "def plot_error(error,save_fig=False):\n",
    "\n",
    "    \"\"\"\n",
    "    Plots error values in the form of barplot\n",
    "\n",
    "    Input:\n",
    "\n",
    "    error: (pandas Series object)\n",
    "\n",
    "    save_fig: Falsedefault(Boolean)\n",
    "\n",
    "    Output:\n",
    "\n",
    "    None\n",
    "\n",
    "    \"\"\"\n",
    "    fig,ax = plt.subplots(1,1,figsize=(10,4))\n",
    "\n",
    "    error.plot(ax=ax,kind='bar')\n",
    "\n",
    "    ax.tick_params(labelsize=15)\n",
    "\n",
    "    ax.set_ylabel('RMSE (windspeed)', fontsize=15,weight='bold')\n",
    "\n",
    "    ax.set_xlabel('Models', fontsize=15,weight='bold')\n",
    "\n",
    "    ax.set_title('Test set error', fontsize=30,weight='bold')\n",
    "    \n",
    "    if save_fig:\n",
    "        \n",
    "        plt.savefig('SyntheticTimeseries_Reanalysis_Error_bar_plot.png',dpi=300,format='png',facecolor='w')"
   ]
  },
  {
   "cell_type": "markdown",
   "id": "66fa85dc",
   "metadata": {
    "id": "66fa85dc"
   },
   "source": [
    "## 4.3 Main function"
   ]
  },
  {
   "cell_type": "code",
   "execution_count": 41,
   "id": "94f2ad9c",
   "metadata": {
    "id": "94f2ad9c"
   },
   "outputs": [],
   "source": [
    "def main_functon_3_build_syn_timeseries(X_train, y_train, X_test, y_test, input_data,\n",
    "                                       n_iter_RF,n_iter_GBDT,n_iter_LGBDT,n_jobs):\n",
    "    \n",
    "    \"\"\"\n",
    "        \n",
    "    X_train: (pandas DataFrame object)\n",
    "    \n",
    "    y_train: (pandas DataFrame object)\n",
    "    \n",
    "    X_test: (pandas DataFrame object)\n",
    "    \n",
    "    y_test: (pandas DataFrame object)\n",
    "    \n",
    "    input_data: (pandas DataFrame object)\n",
    "    \n",
    "    n_iter_RF: (int)\n",
    "    \n",
    "    n_iter_GBDT: (int)\n",
    "    \n",
    "    n_iter_LGBDT: (int)\n",
    "    \n",
    "    n_jobs: (int)\n",
    "    \n",
    "    \"\"\"\n",
    "    # Obtaining best model fits\n",
    "\n",
    "    print('Hyper-parameter tuning (please wait)', end=' ')\n",
    "\n",
    "    RF_model = hyp_tune_RF(X_train,y_train,n_iter_RF,n_jobs)\n",
    "    print('.',end='')\n",
    "    \n",
    "    GBDT_model = hyp_tune_GBDT(X_train,y_train,n_iter_GBDT,n_jobs)\n",
    "    print('.',end='')\n",
    "    \n",
    "    LGBDT_model = hyp_tune_LGBDT(X_train,y_train,n_iter_LGBDT,n_jobs)\n",
    "    print('.',end='')\n",
    "    \n",
    "    print(' done!')\n",
    "    \n",
    "    # Getting error estimates \n",
    "\n",
    "    print()\n",
    "\n",
    "    print('Getting error estimates...', end=' ')\n",
    "\n",
    "    error = {}\n",
    "\n",
    "    RF_error = mean_squared_error(y_test,RF_model.predict(X_test),squared=False)\n",
    "    error['RF'] = RF_error\n",
    "\n",
    "    GBDT_error = mean_squared_error(y_test,GBDT_model.predict(X_test),squared=False)\n",
    "    error['GBDT'] = GBDT_error\n",
    "\n",
    "    LGBDT_error = mean_squared_error(y_test,LGBDT_model.predict(X_test),squared=False)\n",
    "    error['LGBDT'] = LGBDT_error\n",
    "\n",
    "    # ERA5\n",
    "    ERA5_error = mean_squared_error(y_test,X_test['wind_era5'],squared=False)\n",
    "    error['ERA5'] = ERA5_error\n",
    "\n",
    "    # JRA55\n",
    "    JRA55_error = mean_squared_error(y_test,X_test['wind_jra55'],squared=False)\n",
    "    error['JRA55'] = JRA55_error\n",
    "\n",
    "    # NCEP1\n",
    "    NCEP1_error = mean_squared_error(y_test,X_test['wind_ncep1'],squared=False)\n",
    "    error['NCEP1'] = NCEP1_error\n",
    "\n",
    "    error = pd.Series(error)\n",
    "\n",
    "    print('done!!')\n",
    "\n",
    "    print()\n",
    "    \n",
    "    print('Building synthetic timeseries...', end=' ')\n",
    "\n",
    "    RF_syn = pd.Series(data=RF_model.predict(input_data),name='RF',index=input_data.index)\n",
    "\n",
    "    GBDT_syn = pd.Series(data=GBDT_model.predict(input_data),name='GBDT',index=input_data.index)\n",
    "\n",
    "    LGBDT_syn = pd.Series(data=LGBDT_model.predict(input_data),name='LGBDT',index=input_data.index)\n",
    "\n",
    "    SYN = pd.DataFrame([RF_syn,GBDT_syn,LGBDT_syn]).T\n",
    "\n",
    "    SYN[SYN<0] = 0\n",
    "\n",
    "    print('done!!!')\n",
    "\n",
    "    print()\n",
    "    \n",
    "    # Resampling to monthly average and saving synthetic timeseries data(3).\n",
    "    # columns are named after ML models(abbreviations)\n",
    "    \n",
    "    print('Saving synthetic time series monthly-mean...',end=' ')\n",
    "    \n",
    "    # Calculating monthly-mean\n",
    "    \n",
    "    SYN_MS = SYN.resample('MS').mean()\n",
    "    \n",
    "    # Identifying last date of observation data\n",
    "    \n",
    "    if input_data.index[-1].day >= 15:\n",
    "    \n",
    "        SYN_MS.to_csv('Synthetic_timeseries_monthy-mean.csv')\n",
    "    \n",
    "    else:\n",
    "        \n",
    "        SYN_MS.iloc[:-1:,:].to_csv('Synthetic_timeseries_monthy-mean.csv')\n",
    "        \n",
    "    print('done!!!')\n",
    "    \n",
    "    print()\n",
    "\n",
    "    # Plotting error of synthetic timeseries\n",
    "\n",
    "    plot_error(error,save_fig=True)\n",
    "    \n",
    "    \n",
    " "
   ]
  },
  {
   "cell_type": "markdown",
   "id": "b5edfca3",
   "metadata": {
    "id": "b5edfca3"
   },
   "source": [
    "<!--  -->"
   ]
  },
  {
   "cell_type": "markdown",
   "id": "56b9ae1d",
   "metadata": {
    "id": "56b9ae1d"
   },
   "source": [
    "# 5. Execution"
   ]
  },
  {
   "cell_type": "markdown",
   "id": "1ef3b5b8",
   "metadata": {
    "id": "1ef3b5b8"
   },
   "source": [
    "<!--  -->"
   ]
  },
  {
   "cell_type": "markdown",
   "id": "70bc3e0c",
   "metadata": {
    "id": "70bc3e0c"
   },
   "source": [
    "## Parameters which can be modified (advanced users)"
   ]
  },
  {
   "cell_type": "code",
   "execution_count": 32,
   "id": "a5873f37",
   "metadata": {
    "id": "a5873f37",
    "outputId": "7a72d8ab-f98d-402e-ff0d-65925ca6afb7"
   },
   "outputs": [
    {
     "name": "stdout",
     "output_type": "stream",
     "text": [
      "Toal number of cpus in computer 8\n"
     ]
    }
   ],
   "source": [
    "max_cpu = int(os.cpu_count()/2)\n",
    "\n",
    "print('Toal number of cpus in computer',max_cpu)"
   ]
  },
  {
   "cell_type": "code",
   "execution_count": 33,
   "id": "6b9b7b7d",
   "metadata": {
    "id": "6b9b7b7d"
   },
   "outputs": [],
   "source": [
    "# Number of cpus to use for distributing the computation load \n",
    "\n",
    "# Default set to 1 but can be set to upto total number of cpus as mentioned by output message of above cell\n",
    "\n",
    "n_jobs = 8\n",
    "\n",
    "# Number of parameter combinations to tune regression models\n",
    "\n",
    "# In simple terms higher the number provided better could be the model fit.\n",
    "\n",
    "# Recommended range is next to default value in commented part\n",
    "\n",
    "# NOTE: Higher the number of n_iter, doesn't guarantee to give better output.\n",
    "\n",
    "# Also increasing n_iter increases computation time \n",
    "\n",
    "n_iter_RF = 10 # (1-969)\n",
    "\n",
    "n_iter_GBDT = 10 # (1-10000)\n",
    "\n",
    "n_iter_LGBDT = 10 # (1-10000)\n"
   ]
  },
  {
   "cell_type": "markdown",
   "id": "e1959edd",
   "metadata": {
    "id": "e1959edd"
   },
   "source": [
    "<!--  -->\n",
    "\n",
    "<!--  -->"
   ]
  },
  {
   "cell_type": "markdown",
   "id": "4c2a6394",
   "metadata": {
    "id": "4c2a6394"
   },
   "source": [
    "<!--  -->"
   ]
  },
  {
   "cell_type": "code",
   "execution_count": 34,
   "id": "888bedb0",
   "metadata": {
    "id": "888bedb0"
   },
   "outputs": [],
   "source": [
    "# Section 2: Importing required input data and verifying specified criteria.\n",
    "\n",
    "obs_reanalysis = main_function_1_import_verify()\n",
    "\n",
    "if obs_reanalysis is not None:\n",
    "    \n",
    "    obs_data, reanalysis_data = obs_reanalysis"
   ]
  },
  {
   "cell_type": "code",
   "execution_count": 35,
   "id": "18988b0b",
   "metadata": {
    "id": "18988b0b"
   },
   "outputs": [],
   "source": [
    "# Section 3: Processing datasets\n",
    "\n",
    "try:\n",
    "    \n",
    "    X_train, y_train, X_test, y_test, input_data = main_function_2_process_datasets(obs_data, reanalysis_data)\n",
    "    \n",
    "except NameError:\n",
    "    \n",
    "    print(\"Above section is not excecuted or an error occured in its execution\")\n"
   ]
  },
  {
   "cell_type": "code",
   "execution_count": 42,
   "id": "b394bc03",
   "metadata": {
    "id": "b394bc03",
    "outputId": "937abc4f-35ed-4512-e873-037f8e8e48a2"
   },
   "outputs": [
    {
     "name": "stdout",
     "output_type": "stream",
     "text": [
      "Hyper-parameter tuning (please wait) ... done!\n",
      "\n",
      "Getting error estimates... done!!\n",
      "\n",
      "Building synthetic timeseries... done!!!\n",
      "\n",
      "Saving synthetic time series monthly-mean... done!!!\n",
      "\n"
     ]
    },
    {
     "data": {
      "image/png": "[encoded data removed]",
      "text/plain": [
       "<Figure size 720x288 with 1 Axes>"
      ]
     },
     "metadata": {
      "needs_background": "light"
     },
     "output_type": "display_data"
    }
   ],
   "source": [
    "# Section 4: Building synthetic timeseries\n",
    "\n",
    "try:\n",
    "\n",
    "    main_functon_3_build_syn_timeseries(X_train, y_train, X_test, y_test, input_data,\n",
    "                                       n_iter_RF,n_iter_GBDT,n_iter_LGBDT,n_jobs)\n",
    "\n",
    "except NameError:\n",
    "    \n",
    "    print(\"Above section is not excecuted or an error occured in its execution\")\n"
   ]
  },
  {
   "cell_type": "code",
   "execution_count": null,
   "id": "a4776521",
   "metadata": {
    "id": "a4776521"
   },
   "outputs": [],
   "source": []
  }
 ],
 "metadata": {
  "colab": {
   "collapsed_sections": [],
   "name": "Synthetic_timeseries_generation_code_version2.ipynb",
   "provenance": []
  },
  "kernelspec": {
   "display_name": "Python 3 (ipykernel)",
   "language": "python",
   "name": "python3"
  },
  "language_info": {
   "codemirror_mode": {
    "name": "ipython",
    "version": 3
   },
   "file_extension": ".py",
   "mimetype": "text/x-python",
   "name": "python",
   "nbconvert_exporter": "python",
   "pygments_lexer": "ipython3",
   "version": "3.8.12"
  }
 },
 "nbformat": 4,
 "nbformat_minor": 5
}
